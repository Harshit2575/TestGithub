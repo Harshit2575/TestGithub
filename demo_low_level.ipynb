{
  "nbformat": 4,
  "nbformat_minor": 0,
  "metadata": {
    "colab": {
      "name": "demo_low_level.ipynb",
      "version": "0.3.2",
      "provenance": [],
      "collapsed_sections": [],
      "include_colab_link": true
    },
    "kernelspec": {
      "name": "python3",
      "display_name": "Python 3"
    }
  },
  "cells": [
    {
      "cell_type": "markdown",
      "metadata": {
        "id": "view-in-github",
        "colab_type": "text"
      },
      "source": [
        "<a href=\"https://colab.research.google.com/github/Harshit2575/TestGithub/blob/master/demo_low_level.ipynb\" target=\"_parent\"><img src=\"https://colab.research.google.com/assets/colab-badge.svg\" alt=\"Open In Colab\"/></a>"
      ]
    },
    {
      "cell_type": "code",
      "metadata": {
        "id": "X2DOog_JWAIn",
        "colab_type": "code",
        "colab": {}
      },
      "source": [
        "import tensorflow as tf"
      ],
      "execution_count": 0,
      "outputs": []
    },
    {
      "cell_type": "code",
      "metadata": {
        "id": "xSFRtv74WCCy",
        "colab_type": "code",
        "outputId": "e418eb07-35e9-4498-d567-3186c1dda321",
        "colab": {
          "base_uri": "https://localhost:8080/",
          "height": 34
        }
      },
      "source": [
        "print(tf.__version__)"
      ],
      "execution_count": 0,
      "outputs": [
        {
          "output_type": "stream",
          "text": [
            "1.14.0\n"
          ],
          "name": "stdout"
        }
      ]
    },
    {
      "cell_type": "markdown",
      "metadata": {
        "id": "NvQZqX2mlR_3",
        "colab_type": "text"
      },
      "source": [
        "Artificial data: given a known function f(x) = 2x - 1"
      ]
    },
    {
      "cell_type": "code",
      "metadata": {
        "id": "UVa7jUscWHY9",
        "colab_type": "code",
        "colab": {}
      },
      "source": [
        "x = tf.constant([[-1.0],  [0.0], [1.0], [2.0], [3.0], [4.0]], dtype=tf.float32)\n",
        "y_true = tf.constant([[-3.0], [-1.0], [1.0], [3.0], [5.0], [7.0]], dtype=tf.float32)"
      ],
      "execution_count": 0,
      "outputs": []
    },
    {
      "cell_type": "markdown",
      "metadata": {
        "id": "oI0F1bJyAqRJ",
        "colab_type": "text"
      },
      "source": [
        "We create 1(units) linear model node to accept input tensor with shape (6, 1) and return a output with y = ax + b tensor with shape (6, 1)"
      ]
    },
    {
      "cell_type": "code",
      "metadata": {
        "id": "uxdsbp0fWiLU",
        "colab_type": "code",
        "outputId": "d40c0ef2-7aba-4031-b304-fc8e88b20068",
        "colab": {
          "base_uri": "https://localhost:8080/",
          "height": 105
        }
      },
      "source": [
        "linear_model = tf.layers.Dense(units=1)\n",
        "\n",
        "y_pred = linear_model(x)"
      ],
      "execution_count": 0,
      "outputs": [
        {
          "output_type": "stream",
          "text": [
            "WARNING: Logging before flag parsing goes to stderr.\n",
            "W0705 12:13:42.450905 139646082402176 deprecation.py:506] From /usr/local/lib/python3.6/dist-packages/tensorflow/python/ops/init_ops.py:1251: calling VarianceScaling.__init__ (from tensorflow.python.ops.init_ops) with dtype is deprecated and will be removed in a future version.\n",
            "Instructions for updating:\n",
            "Call initializer instance with the dtype argument instead of passing it to the constructor\n"
          ],
          "name": "stderr"
        }
      ]
    },
    {
      "cell_type": "markdown",
      "metadata": {
        "id": "BxscUylaBJOX",
        "colab_type": "text"
      },
      "source": [
        "loss object(also called objective function) will calculate average of 6 (predict - true)^2"
      ]
    },
    {
      "cell_type": "code",
      "metadata": {
        "id": "6mksWUlHWoX5",
        "colab_type": "code",
        "outputId": "1648eac5-d369-4c2e-cbb2-4c0457dac407",
        "colab": {
          "base_uri": "https://localhost:8080/",
          "height": 88
        }
      },
      "source": [
        "# TensorFlow provide standard losses wraper for you\n",
        "loss = tf.losses.mean_squared_error(labels=y_true, predictions=y_pred)"
      ],
      "execution_count": 0,
      "outputs": [
        {
          "output_type": "stream",
          "text": [
            "W0705 12:13:42.796102 139646082402176 deprecation.py:323] From /usr/local/lib/python3.6/dist-packages/tensorflow/python/ops/losses/losses_impl.py:121: add_dispatch_support.<locals>.wrapper (from tensorflow.python.ops.array_ops) is deprecated and will be removed in a future version.\n",
            "Instructions for updating:\n",
            "Use tf.where in 2.0, which has the same broadcast rule as np.where\n"
          ],
          "name": "stderr"
        }
      ]
    },
    {
      "cell_type": "markdown",
      "metadata": {
        "id": "on3aZdeEBlQ9",
        "colab_type": "text"
      },
      "source": [
        "Optimizer trace the gradient of loss (in forward pass) each round and backpropagate to the trainable parameters in the computation graph"
      ]
    },
    {
      "cell_type": "code",
      "metadata": {
        "id": "5keruy1rWloY",
        "colab_type": "code",
        "colab": {}
      },
      "source": [
        "optimizer = tf.train.GradientDescentOptimizer(0.01)\n",
        "train = optimizer.minimize(loss)"
      ],
      "execution_count": 0,
      "outputs": []
    },
    {
      "cell_type": "markdown",
      "metadata": {
        "id": "IWNT95_mB4RI",
        "colab_type": "text"
      },
      "source": [
        "Each round we pass 6 tensors, and we run this forward pass + backpropagation 100 times"
      ]
    },
    {
      "cell_type": "code",
      "metadata": {
        "id": "ghIeer_hWvNm",
        "colab_type": "code",
        "outputId": "28abcfd2-e790-453c-bb41-b122f39ca6f7",
        "colab": {
          "base_uri": "https://localhost:8080/",
          "height": 1000
        }
      },
      "source": [
        "# this initializer should be the last thing to do during graph construction\n",
        "init = tf.global_variables_initializer()\n",
        "\n",
        "sess = tf.Session()\n",
        "# initialize variables in layers\n",
        "sess.run(init)\n",
        "for i in range(100):\n",
        "  _, loss_value = sess.run((train, loss))\n",
        "  print(loss_value)"
      ],
      "execution_count": 0,
      "outputs": [
        {
          "output_type": "stream",
          "text": [
            "18.944721\n",
            "15.1657915\n",
            "12.18735\n",
            "9.838805\n",
            "7.9859405\n",
            "6.5231586\n",
            "5.367378\n",
            "4.453234\n",
            "3.7292957\n",
            "3.1550996\n",
            "2.6988094\n",
            "2.335374\n",
            "2.0450847\n",
            "1.8124323\n",
            "1.6252133\n",
            "1.4738251\n",
            "1.3507112\n",
            "1.2499241\n",
            "1.1667835\n",
            "1.0976051\n",
            "1.039489\n",
            "0.9901523\n",
            "0.94779676\n",
            "0.911006\n",
            "0.8786652\n",
            "0.849895\n",
            "0.824002\n",
            "0.80043983\n",
            "0.7787768\n",
            "0.7586725\n",
            "0.7398569\n",
            "0.722117\n",
            "0.70528364\n",
            "0.689223\n",
            "0.6738276\n",
            "0.6590125\n",
            "0.6447094\n",
            "0.6308638\n",
            "0.61743104\n",
            "0.6043754\n",
            "0.5916674\n",
            "0.5792832\n",
            "0.5672026\n",
            "0.555409\n",
            "0.54388803\n",
            "0.53262764\n",
            "0.52161753\n",
            "0.5108484\n",
            "0.5003122\n",
            "0.49000156\n",
            "0.47990987\n",
            "0.47003126\n",
            "0.46036008\n",
            "0.450891\n",
            "0.4416192\n",
            "0.43253997\n",
            "0.42364907\n",
            "0.41494206\n",
            "0.4064149\n",
            "0.3980639\n",
            "0.38988504\n",
            "0.38187468\n",
            "0.3740292\n",
            "0.3663452\n",
            "0.35881934\n",
            "0.35144818\n",
            "0.34422854\n",
            "0.33715752\n",
            "0.33023176\n",
            "0.3234483\n",
            "0.31680426\n",
            "0.31029674\n",
            "0.30392292\n",
            "0.29768005\n",
            "0.2915654\n",
            "0.28557643\n",
            "0.27971044\n",
            "0.27396497\n",
            "0.26833755\n",
            "0.2628257\n",
            "0.2574271\n",
            "0.25213936\n",
            "0.24696027\n",
            "0.24188757\n",
            "0.23691903\n",
            "0.2320525\n",
            "0.22728604\n",
            "0.22261745\n",
            "0.21804468\n",
            "0.21356595\n",
            "0.20917921\n",
            "0.20488246\n",
            "0.20067407\n",
            "0.19655211\n",
            "0.19251482\n",
            "0.18856043\n",
            "0.1846873\n",
            "0.1808937\n",
            "0.17717807\n",
            "0.17353874\n"
          ],
          "name": "stdout"
        }
      ]
    },
    {
      "cell_type": "code",
      "metadata": {
        "id": "giYEjGgka3m0",
        "colab_type": "code",
        "outputId": "31c4c5e6-8932-49a0-9579-2e47996e87dd",
        "colab": {
          "base_uri": "https://localhost:8080/",
          "height": 51
        }
      },
      "source": [
        "x_new = [10.0]\n",
        "x_new_tensor = tf.constant([x_new], dtype=tf.float32)\n",
        "y_pred_new = linear_model(x_new_tensor)\n",
        "print(sess.run(y_pred_new))\n",
        "print(\"Layer variables look like this: {}\".format(sess.run([linear_model.kernel, linear_model.bias])))"
      ],
      "execution_count": 0,
      "outputs": [
        {
          "output_type": "stream",
          "text": [
            "[[17.784489]]\n",
            "Layer variables look like this: [array([[1.8238357]], dtype=float32), array([-0.45386934], dtype=float32)]\n"
          ],
          "name": "stdout"
        }
      ]
    },
    {
      "cell_type": "code",
      "metadata": {
        "id": "ZHI16Y2gW3co",
        "colab_type": "code",
        "colab": {}
      },
      "source": [
        "from tensorflow import keras\n",
        "from tensorflow.keras import Input"
      ],
      "execution_count": 0,
      "outputs": []
    },
    {
      "cell_type": "code",
      "metadata": {
        "id": "RBB_MrvfXpr8",
        "colab_type": "code",
        "colab": {}
      },
      "source": [
        "layer_0 = keras.layers.Dense(units=1, input_shape=[1])"
      ],
      "execution_count": 0,
      "outputs": []
    },
    {
      "cell_type": "code",
      "metadata": {
        "id": "9PWxB3B_XvD1",
        "colab_type": "code",
        "colab": {}
      },
      "source": [
        "model = tf.keras.Sequential([layer_0])"
      ],
      "execution_count": 0,
      "outputs": []
    },
    {
      "cell_type": "code",
      "metadata": {
        "id": "Snx4gFDrXy2k",
        "colab_type": "code",
        "colab": {}
      },
      "source": [
        "model.compile(optimizer='sgd', loss='mean_squared_error')"
      ],
      "execution_count": 0,
      "outputs": []
    },
    {
      "cell_type": "markdown",
      "metadata": {
        "id": "LBNCQl7v_pbt",
        "colab_type": "text"
      },
      "source": [
        "epoch: 1 full run over all datasets (6 tensors in this case);\n",
        " steps_per_epoch: # of iterations within 1 epochs"
      ]
    },
    {
      "cell_type": "code",
      "metadata": {
        "id": "MTWhxa9dX1ZV",
        "colab_type": "code",
        "outputId": "5ec0befe-e67d-4cc5-d09a-41bc6a2b9810",
        "colab": {
          "base_uri": "https://localhost:8080/",
          "height": 1000
        }
      },
      "source": [
        "model.fit(x, y_true, epochs=100, steps_per_epoch=1)"
      ],
      "execution_count": 0,
      "outputs": [
        {
          "output_type": "stream",
          "text": [
            "Epoch 1/100\n",
            "1/1 [==============================] - 0s 61ms/step - loss: 40.6054\n",
            "Epoch 2/100\n",
            "1/1 [==============================] - 0s 3ms/step - loss: 32.3037\n",
            "Epoch 3/100\n",
            "1/1 [==============================] - 0s 1ms/step - loss: 25.7651\n",
            "Epoch 4/100\n",
            "1/1 [==============================] - 0s 2ms/step - loss: 20.6135\n",
            "Epoch 5/100\n",
            "1/1 [==============================] - 0s 1ms/step - loss: 16.5535\n",
            "Epoch 6/100\n",
            "1/1 [==============================] - 0s 3ms/step - loss: 13.3524\n",
            "Epoch 7/100\n",
            "1/1 [==============================] - 0s 2ms/step - loss: 10.8272\n",
            "Epoch 8/100\n",
            "1/1 [==============================] - 0s 2ms/step - loss: 8.8338\n",
            "Epoch 9/100\n",
            "1/1 [==============================] - 0s 3ms/step - loss: 7.2590\n",
            "Epoch 10/100\n",
            "1/1 [==============================] - 0s 4ms/step - loss: 6.0138\n",
            "Epoch 11/100\n",
            "1/1 [==============================] - 0s 1ms/step - loss: 5.0278\n",
            "Epoch 12/100\n",
            "1/1 [==============================] - 0s 2ms/step - loss: 4.2460\n",
            "Epoch 13/100\n",
            "1/1 [==============================] - 0s 2ms/step - loss: 3.6250\n",
            "Epoch 14/100\n",
            "1/1 [==============================] - 0s 2ms/step - loss: 3.1305\n",
            "Epoch 15/100\n",
            "1/1 [==============================] - 0s 2ms/step - loss: 2.7358\n",
            "Epoch 16/100\n",
            "1/1 [==============================] - 0s 2ms/step - loss: 2.4197\n",
            "Epoch 17/100\n",
            "1/1 [==============================] - 0s 2ms/step - loss: 2.1654\n",
            "Epoch 18/100\n",
            "1/1 [==============================] - 0s 2ms/step - loss: 1.9600\n",
            "Epoch 19/100\n",
            "1/1 [==============================] - 0s 2ms/step - loss: 1.7932\n",
            "Epoch 20/100\n",
            "1/1 [==============================] - 0s 1ms/step - loss: 1.6567\n",
            "Epoch 21/100\n",
            "1/1 [==============================] - 0s 1ms/step - loss: 1.5444\n",
            "Epoch 22/100\n",
            "1/1 [==============================] - 0s 2ms/step - loss: 1.4510\n",
            "Epoch 23/100\n",
            "1/1 [==============================] - 0s 1ms/step - loss: 1.3727\n",
            "Epoch 24/100\n",
            "1/1 [==============================] - 0s 2ms/step - loss: 1.3063\n",
            "Epoch 25/100\n",
            "1/1 [==============================] - 0s 2ms/step - loss: 1.2495\n",
            "Epoch 26/100\n",
            "1/1 [==============================] - 0s 2ms/step - loss: 1.2002\n",
            "Epoch 27/100\n",
            "1/1 [==============================] - 0s 2ms/step - loss: 1.1569\n",
            "Epoch 28/100\n",
            "1/1 [==============================] - 0s 2ms/step - loss: 1.1186\n",
            "Epoch 29/100\n",
            "1/1 [==============================] - 0s 2ms/step - loss: 1.0841\n",
            "Epoch 30/100\n",
            "1/1 [==============================] - 0s 2ms/step - loss: 1.0528\n",
            "Epoch 31/100\n",
            "1/1 [==============================] - 0s 2ms/step - loss: 1.0240\n",
            "Epoch 32/100\n",
            "1/1 [==============================] - 0s 2ms/step - loss: 0.9974\n",
            "Epoch 33/100\n",
            "1/1 [==============================] - 0s 2ms/step - loss: 0.9725\n",
            "Epoch 34/100\n",
            "1/1 [==============================] - 0s 2ms/step - loss: 0.9490\n",
            "Epoch 35/100\n",
            "1/1 [==============================] - 0s 3ms/step - loss: 0.9268\n",
            "Epoch 36/100\n",
            "1/1 [==============================] - 0s 1ms/step - loss: 0.9056\n",
            "Epoch 37/100\n",
            "1/1 [==============================] - 0s 3ms/step - loss: 0.8853\n",
            "Epoch 38/100\n",
            "1/1 [==============================] - 0s 2ms/step - loss: 0.8658\n",
            "Epoch 39/100\n",
            "1/1 [==============================] - 0s 1ms/step - loss: 0.8470\n",
            "Epoch 40/100\n",
            "1/1 [==============================] - 0s 1ms/step - loss: 0.8288\n",
            "Epoch 41/100\n",
            "1/1 [==============================] - 0s 5ms/step - loss: 0.8111\n",
            "Epoch 42/100\n",
            "1/1 [==============================] - 0s 2ms/step - loss: 0.7939\n",
            "Epoch 43/100\n",
            "1/1 [==============================] - 0s 1ms/step - loss: 0.7772\n",
            "Epoch 44/100\n",
            "1/1 [==============================] - 0s 1ms/step - loss: 0.7610\n",
            "Epoch 45/100\n",
            "1/1 [==============================] - 0s 2ms/step - loss: 0.7451\n",
            "Epoch 46/100\n",
            "1/1 [==============================] - 0s 2ms/step - loss: 0.7296\n",
            "Epoch 47/100\n",
            "1/1 [==============================] - 0s 1ms/step - loss: 0.7144\n",
            "Epoch 48/100\n",
            "1/1 [==============================] - 0s 1ms/step - loss: 0.6996\n",
            "Epoch 49/100\n",
            "1/1 [==============================] - 0s 2ms/step - loss: 0.6852\n",
            "Epoch 50/100\n",
            "1/1 [==============================] - 0s 2ms/step - loss: 0.6710\n",
            "Epoch 51/100\n",
            "1/1 [==============================] - 0s 6ms/step - loss: 0.6572\n",
            "Epoch 52/100\n",
            "1/1 [==============================] - 0s 1ms/step - loss: 0.6436\n",
            "Epoch 53/100\n",
            "1/1 [==============================] - 0s 1ms/step - loss: 0.6304\n",
            "Epoch 54/100\n",
            "1/1 [==============================] - 0s 1ms/step - loss: 0.6174\n",
            "Epoch 55/100\n",
            "1/1 [==============================] - 0s 1ms/step - loss: 0.6047\n",
            "Epoch 56/100\n",
            "1/1 [==============================] - 0s 1ms/step - loss: 0.5923\n",
            "Epoch 57/100\n",
            "1/1 [==============================] - 0s 1ms/step - loss: 0.5801\n",
            "Epoch 58/100\n",
            "1/1 [==============================] - 0s 1ms/step - loss: 0.5682\n",
            "Epoch 59/100\n",
            "1/1 [==============================] - 0s 1ms/step - loss: 0.5565\n",
            "Epoch 60/100\n",
            "1/1 [==============================] - 0s 1ms/step - loss: 0.5450\n",
            "Epoch 61/100\n",
            "1/1 [==============================] - 0s 1ms/step - loss: 0.5338\n",
            "Epoch 62/100\n",
            "1/1 [==============================] - 0s 1ms/step - loss: 0.5229\n",
            "Epoch 63/100\n",
            "1/1 [==============================] - 0s 1ms/step - loss: 0.5121\n",
            "Epoch 64/100\n",
            "1/1 [==============================] - 0s 1ms/step - loss: 0.5016\n",
            "Epoch 65/100\n",
            "1/1 [==============================] - 0s 2ms/step - loss: 0.4913\n",
            "Epoch 66/100\n",
            "1/1 [==============================] - 0s 2ms/step - loss: 0.4812\n",
            "Epoch 67/100\n",
            "1/1 [==============================] - 0s 1ms/step - loss: 0.4713\n",
            "Epoch 68/100\n",
            "1/1 [==============================] - 0s 1ms/step - loss: 0.4616\n",
            "Epoch 69/100\n",
            "1/1 [==============================] - 0s 1ms/step - loss: 0.4522\n",
            "Epoch 70/100\n",
            "1/1 [==============================] - 0s 1ms/step - loss: 0.4429\n",
            "Epoch 71/100\n",
            "1/1 [==============================] - 0s 1ms/step - loss: 0.4338\n",
            "Epoch 72/100\n",
            "1/1 [==============================] - 0s 1ms/step - loss: 0.4249\n",
            "Epoch 73/100\n",
            "1/1 [==============================] - 0s 1ms/step - loss: 0.4161\n",
            "Epoch 74/100\n",
            "1/1 [==============================] - 0s 1ms/step - loss: 0.4076\n",
            "Epoch 75/100\n",
            "1/1 [==============================] - 0s 1ms/step - loss: 0.3992\n",
            "Epoch 76/100\n",
            "1/1 [==============================] - 0s 1ms/step - loss: 0.3910\n",
            "Epoch 77/100\n",
            "1/1 [==============================] - 0s 2ms/step - loss: 0.3830\n",
            "Epoch 78/100\n",
            "1/1 [==============================] - 0s 1ms/step - loss: 0.3751\n",
            "Epoch 79/100\n",
            "1/1 [==============================] - 0s 1ms/step - loss: 0.3674\n",
            "Epoch 80/100\n",
            "1/1 [==============================] - 0s 2ms/step - loss: 0.3599\n",
            "Epoch 81/100\n",
            "1/1 [==============================] - 0s 1ms/step - loss: 0.3525\n",
            "Epoch 82/100\n",
            "1/1 [==============================] - 0s 3ms/step - loss: 0.3452\n",
            "Epoch 83/100\n",
            "1/1 [==============================] - 0s 1ms/step - loss: 0.3381\n",
            "Epoch 84/100\n",
            "1/1 [==============================] - 0s 1ms/step - loss: 0.3312\n",
            "Epoch 85/100\n",
            "1/1 [==============================] - 0s 1ms/step - loss: 0.3244\n",
            "Epoch 86/100\n",
            "1/1 [==============================] - 0s 2ms/step - loss: 0.3177\n",
            "Epoch 87/100\n",
            "1/1 [==============================] - 0s 1ms/step - loss: 0.3112\n",
            "Epoch 88/100\n",
            "1/1 [==============================] - 0s 2ms/step - loss: 0.3048\n",
            "Epoch 89/100\n",
            "1/1 [==============================] - 0s 1ms/step - loss: 0.2985\n",
            "Epoch 90/100\n",
            "1/1 [==============================] - 0s 1ms/step - loss: 0.2924\n",
            "Epoch 91/100\n",
            "1/1 [==============================] - 0s 1ms/step - loss: 0.2864\n",
            "Epoch 92/100\n",
            "1/1 [==============================] - 0s 1ms/step - loss: 0.2805\n",
            "Epoch 93/100\n",
            "1/1 [==============================] - 0s 1ms/step - loss: 0.2748\n",
            "Epoch 94/100\n",
            "1/1 [==============================] - 0s 2ms/step - loss: 0.2691\n",
            "Epoch 95/100\n",
            "1/1 [==============================] - 0s 1ms/step - loss: 0.2636\n",
            "Epoch 96/100\n",
            "1/1 [==============================] - 0s 2ms/step - loss: 0.2582\n",
            "Epoch 97/100\n",
            "1/1 [==============================] - 0s 2ms/step - loss: 0.2529\n",
            "Epoch 98/100\n",
            "1/1 [==============================] - 0s 1ms/step - loss: 0.2477\n",
            "Epoch 99/100\n",
            "1/1 [==============================] - 0s 1ms/step - loss: 0.2426\n",
            "Epoch 100/100\n",
            "1/1 [==============================] - 0s 1ms/step - loss: 0.2376\n"
          ],
          "name": "stdout"
        },
        {
          "output_type": "execute_result",
          "data": {
            "text/plain": [
              "<tensorflow.python.keras.callbacks.History at 0x7f01a59f4ac8>"
            ]
          },
          "metadata": {
            "tags": []
          },
          "execution_count": 13
        }
      ]
    },
    {
      "cell_type": "code",
      "metadata": {
        "id": "sXU7YeK4X-6d",
        "colab_type": "code",
        "outputId": "0232cce7-190d-45fe-9323-edf67f862e34",
        "colab": {
          "base_uri": "https://localhost:8080/",
          "height": 34
        }
      },
      "source": [
        "print(model.predict(x_new))"
      ],
      "execution_count": 0,
      "outputs": [
        {
          "output_type": "stream",
          "text": [
            "[[17.57766]]\n"
          ],
          "name": "stdout"
        }
      ]
    },
    {
      "cell_type": "code",
      "metadata": {
        "id": "ix5YuZOgZ7LH",
        "colab_type": "code",
        "outputId": "ff49f285-2174-4004-d470-d8b85c478819",
        "colab": {
          "base_uri": "https://localhost:8080/",
          "height": 34
        }
      },
      "source": [
        "print(\"Layer variables look like this: {}\".format(layer_0.get_weights()))"
      ],
      "execution_count": 0,
      "outputs": [
        {
          "output_type": "stream",
          "text": [
            "Layer variables look like this: [array([[1.7938619]], dtype=float32), array([-0.36095753], dtype=float32)]\n"
          ],
          "name": "stdout"
        }
      ]
    },
    {
      "cell_type": "code",
      "metadata": {
        "id": "vC_A95I9amCq",
        "colab_type": "code",
        "colab": {}
      },
      "source": [
        ""
      ],
      "execution_count": 0,
      "outputs": []
    }
  ]
}